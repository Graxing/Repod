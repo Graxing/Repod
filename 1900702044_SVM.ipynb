{
 "cells": [
  {
   "cell_type": "code",
   "execution_count": 1,
   "id": "920fdd7d-8dda-4c8f-ac80-adb77692a752",
   "metadata": {},
   "outputs": [
    {
     "name": "stdout",
     "output_type": "stream",
     "text": [
      "Dataset shape: (1797, 8, 8)\n",
      "Number of samples: 1797\n",
      "Number of features per sample: 64\n",
      "Target labels (digits): {0, 1, 2, 3, 4, 5, 6, 7, 8, 9}\n"
     ]
    },
    {
     "data": {
      "image/png": "[encoded data removed]",
      "text/plain": [
       "<Figure size 1000x300 with 5 Axes>"
      ]
     },
     "metadata": {},
     "output_type": "display_data"
    },
    {
     "name": "stdout",
     "output_type": "stream",
     "text": [
      "Training set shape: (1347, 64)\n",
      "Test set shape: (450, 64)\n",
      "\n",
      "Linear Kernel SVM Performance:\n",
      "Accuracy: 97.78%\n",
      "              precision    recall  f1-score   support\n",
      "\n",
      "           0       0.98      1.00      0.99        43\n",
      "           1       0.97      1.00      0.99        37\n",
      "           2       0.97      1.00      0.99        38\n",
      "           3       0.96      0.96      0.96        46\n",
      "           4       1.00      1.00      1.00        55\n",
      "           5       0.97      0.97      0.97        59\n",
      "           6       0.98      0.98      0.98        45\n",
      "           7       0.98      0.98      0.98        41\n",
      "           8       1.00      0.95      0.97        38\n",
      "           9       0.98      0.96      0.97        48\n",
      "\n",
      "    accuracy                           0.98       450\n",
      "   macro avg       0.98      0.98      0.98       450\n",
      "weighted avg       0.98      0.98      0.98       450\n",
      "\n"
     ]
    },
    {
     "data": {
      "image/png": "[encoded data removed]",
      "text/plain": [
       "<Figure size 1000x500 with 10 Axes>"
      ]
     },
     "metadata": {},
     "output_type": "display_data"
    }
   ],
   "source": [
    "import numpy as np\n",
    "import matplotlib.pyplot as plt\n",
    "from sklearn import datasets\n",
    "from sklearn.model_selection import train_test_split\n",
    "from sklearn.preprocessing import StandardScaler\n",
    "from sklearn.svm import SVC\n",
    "from sklearn.metrics import classification_report, accuracy_score\n",
    "\n",
    "# Load the digits dataset\n",
    "digits = datasets.load_digits()\n",
    "\n",
    "# Dataset information\n",
    "print(f\"Dataset shape: {digits.images.shape}\")\n",
    "print(f\"Number of samples: {len(digits.images)}\")\n",
    "print(f\"Number of features per sample: {digits.data.shape[1]}\")\n",
    "print(f\"Target labels (digits): {set(digits.target)}\")\n",
    "\n",
    "# Display a few images with their labels\n",
    "fig, axes = plt.subplots(1, 5, figsize=(10, 3))\n",
    "for ax, i in zip(axes, range(5)):\n",
    "    ax.imshow(digits.images[i], cmap='gray')\n",
    "    ax.set_title(f\"Label: {digits.target[i]}\")\n",
    "    ax.axis('off')\n",
    "plt.show()\n",
    "\n",
    "# Flatten the images for input to the model\n",
    "X = digits.data\n",
    "y = digits.target\n",
    "\n",
    "# Normalize the pixel values\n",
    "scaler = StandardScaler()\n",
    "X_scaled = scaler.fit_transform(X)\n",
    "\n",
    "# Split the dataset into 75% training and 25% testing\n",
    "X_train, X_test, y_train, y_test = train_test_split(X_scaled, y, test_size=0.25, random_state=42)\n",
    "print(f\"Training set shape: {X_train.shape}\")\n",
    "print(f\"Test set shape: {X_test.shape}\")\n",
    "\n",
    "# Train SVM model with a linear kernel\n",
    "svm_linear = SVC(kernel='linear', random_state=42)\n",
    "svm_linear.fit(X_train, y_train)\n",
    "\n",
    "# Predict and evaluate the model\n",
    "y_pred_linear = svm_linear.predict(X_test)\n",
    "\n",
    "# Model performance\n",
    "print(\"\\nLinear Kernel SVM Performance:\")\n",
    "print(f\"Accuracy: {accuracy_score(y_test, y_pred_linear) * 100:.2f}%\")\n",
    "print(classification_report(y_test, y_pred_linear))\n",
    "\n",
    "# Visualize predictions\n",
    "fig, axes = plt.subplots(2, 5, figsize=(10, 5))\n",
    "for ax, image, label in zip(axes.ravel(), X_test, y_test):\n",
    "    ax.imshow(image.reshape(8, 8), cmap='gray')\n",
    "    ax.set_title(f'True: {label}')\n",
    "    ax.axis('off')\n",
    "plt.show()\n"
   ]
  }
 ],
 "metadata": {
  "kernelspec": {
   "display_name": "Python 3 (ipykernel)",
   "language": "python",
   "name": "python3"
  },
  "language_info": {
   "codemirror_mode": {
    "name": "ipython",
    "version": 3
   },
   "file_extension": ".py",
   "mimetype": "text/x-python",
   "name": "python",
   "nbconvert_exporter": "python",
   "pygments_lexer": "ipython3",
   "version": "3.10.1"
  }
 },
 "nbformat": 4,
 "nbformat_minor": 5
}
